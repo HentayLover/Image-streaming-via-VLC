{
 "cells": [
  {
   "cell_type": "markdown",
   "metadata": {},
   "source": [
    "# Рабочая отправка изображений, работает через vlc"
   ]
  },
  {
   "cell_type": "code",
   "execution_count": 1,
   "metadata": {},
   "outputs": [
    {
     "name": "stdout",
     "output_type": "stream",
     "text": [
      "Запуск скрипта\n",
      "Найдено 35 изображений для трансляции\n",
      " * Serving Flask app '__main__'\n",
      " * Debug mode: off\n"
     ]
    },
    {
     "name": "stderr",
     "output_type": "stream",
     "text": [
      "WARNING: This is a development server. Do not use it in a production deployment. Use a production WSGI server instead.\n",
      " * Running on all addresses (0.0.0.0)\n",
      " * Running on http://127.0.0.1:8000\n",
      " * Running on http://192.168.0.99:8000\n",
      "Press CTRL+C to quit\n"
     ]
    }
   ],
   "source": [
    "import cv2\n",
    "import os\n",
    "from flask import Flask, Response\n",
    "\n",
    "# Конфигурация сервера\n",
    "host_name = '0.0.0.0'\n",
    "port = 8000\n",
    "\n",
    "# Путь к папке с изображениями\n",
    "image_folder = r'C:\\Users\\PC1\\Desktop\\protocol\\received_images'\n",
    "\n",
    "# Получаем список всех файлов в папке\n",
    "image_files = [f for f in os.listdir(image_folder) if os.path.isfile(os.path.join(image_folder, f))]\n",
    "image_index = 0  # Индекс текущего изображения\n",
    "#fps = 1 / 5  # Частота обновления изображений (кадр каждые 5 секунд)\n",
    "resize_width = 1920  # Ширина изображения после изменения размера\n",
    "resize_height = 1280  # Высота изображения после изменения размера\n",
    "\n",
    "app = Flask(__name__)\n",
    "\n",
    "def generate_video():\n",
    "    global image_index\n",
    "    while True:\n",
    "        # Получаем путь к текущему изображению\n",
    "        image_path = os.path.join(image_folder, image_files[image_index])\n",
    "\n",
    "        # Чтение изображения с помощью OpenCV\n",
    "        img = cv2.imread(image_path)\n",
    "\n",
    "        if img is None:\n",
    "            print(f\"Ошибка: не удалось прочитать изображение {image_path}\")\n",
    "            continue\n",
    "\n",
    "        # Изменение размера изображения\n",
    "        print(f\"Изменение размера изображения: {image_path} до {resize_width}x{resize_height}\")\n",
    "        img_resized = cv2.resize(img, (resize_width, resize_height))\n",
    "\n",
    "        # Конвертация изображения в формат JPEG\n",
    "        ret, jpeg = cv2.imencode('.jpg', img_resized)\n",
    "\n",
    "        if not ret:\n",
    "            print(\"Ошибка: не удалось конвертировать изображение в JPEG\")\n",
    "            continue\n",
    "\n",
    "        # Отправка изображения в виде MJPEG кадра\n",
    "        print(f\"Отправка изображения: {image_path}\")\n",
    "        yield (b'--frame\\r\\n'\n",
    "               b'Content-Type: image/jpeg\\r\\n\\r\\n' + jpeg.tobytes() + b'\\r\\n\\r\\n')\n",
    "\n",
    "        # Обновляем индекс для следующего изображения\n",
    "        image_index = (image_index + 1) % len(image_files)\n",
    "\n",
    "        # Пауза для поддержания заданной частоты кадров\n",
    "        cv2.waitKey(int(1000))\n",
    "\n",
    "@app.route('/')\n",
    "def video_feed():\n",
    "    return Response(generate_video(), mimetype='multipart/x-mixed-replace; boundary=frame')\n",
    "\n",
    "if __name__ == '__main__':\n",
    "    print(\"Запуск скрипта\")\n",
    "    if not image_files:\n",
    "        print(f\"Ошибка: не найдены изображения в папке {image_folder}\")\n",
    "    else:\n",
    "        print(f\"Найдено {len(image_files)} изображений для трансляции\")\n",
    "        app.run(host=host_name, port=port)\n"
   ]
  }
 ],
 "metadata": {
  "kernelspec": {
   "display_name": "senred_2",
   "language": "python",
   "name": "python3"
  },
  "language_info": {
   "codemirror_mode": {
    "name": "ipython",
    "version": 3
   },
   "file_extension": ".py",
   "mimetype": "text/x-python",
   "name": "python",
   "nbconvert_exporter": "python",
   "pygments_lexer": "ipython3",
   "version": "3.12.5"
  }
 },
 "nbformat": 4,
 "nbformat_minor": 2
}
